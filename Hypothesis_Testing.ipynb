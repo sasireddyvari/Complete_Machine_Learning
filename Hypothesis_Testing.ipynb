{
  "nbformat": 4,
  "nbformat_minor": 0,
  "metadata": {
    "colab": {
      "name": "Hypothesis_Testing.ipynb",
      "provenance": [],
      "collapsed_sections": [],
      "mount_file_id": "1djSnbLN33h-sn7i1DPU5tApzkFBx0mZ8",
      "authorship_tag": "ABX9TyNfe7a0RYDZGQO6JfI7JnNj",
      "include_colab_link": true
    },
    "kernelspec": {
      "name": "python3",
      "display_name": "Python 3"
    }
  },
  "cells": [
    {
      "cell_type": "markdown",
      "metadata": {
        "id": "view-in-github",
        "colab_type": "text"
      },
      "source": [
        "<a href=\"https://colab.research.google.com/github/sasireddyvari/LifeCycle_DataScience/blob/master/Hypothesis_Testing.ipynb\" target=\"_parent\"><img src=\"https://colab.research.google.com/assets/colab-badge.svg\" alt=\"Open In Colab\"/></a>"
      ]
    },
    {
      "cell_type": "markdown",
      "metadata": {
        "id": "3MtLTLstcLdS"
      },
      "source": [
        "**Hypothesis Testing :**\r\n",
        "Inferial Statistics\r\n",
        "1.   T Test :\r\n",
        "        *  One sample (One Numerical / Categorical)- ttest_1samp\r\n",
        "        *  Two Sample (Two Numerical variable) - ttest_ind\r\n",
        "        *  Paired T Test - ttest_rel\r\n",
        "2.   Chi Square test : Two Categorical\r\n",
        "3.   Annova test : Two or more Categorical"
      ]
    },
    {
      "cell_type": "markdown",
      "metadata": {
        "id": "MImAJVIGhoI2"
      },
      "source": [
        "**Problem Statement:**\r\n",
        "\r\n",
        "Is the sample mean and population mean different or not?"
      ]
    },
    {
      "cell_type": "code",
      "metadata": {
        "id": "P57uVFgmmNs3"
      },
      "source": [
        "import numpy as np\r\n",
        "import pandas as pd\r\n",
        "import scipy.stats as stats\r\n",
        "import math"
      ],
      "execution_count": 11,
      "outputs": []
    },
    {
      "cell_type": "code",
      "metadata": {
        "id": "QzlExUq3WMBD"
      },
      "source": [
        "ages=[10,20,35,50,28,40,55,18,16,55,30,25,43,18,30,28,14,24,16,17,32,35,26,27,65,18,43,23,21,20,19,70]  "
      ],
      "execution_count": 1,
      "outputs": []
    },
    {
      "cell_type": "code",
      "metadata": {
        "colab": {
          "base_uri": "https://localhost:8080/"
        },
        "id": "b4nxdX3Ph2xx",
        "outputId": "599b5c70-3c8b-459f-c35c-dab49148d77d"
      },
      "source": [
        "ages_mean=np.mean(ages)\r\n",
        "print(ages_mean)"
      ],
      "execution_count": 2,
      "outputs": [
        {
          "output_type": "stream",
          "text": [
            "30.34375\n"
          ],
          "name": "stdout"
        }
      ]
    },
    {
      "cell_type": "code",
      "metadata": {
        "id": "HNHyR94Ah41B"
      },
      "source": [
        "sample_size=10\r\n",
        "age_sample=np.random.choice(ages,sample_size)"
      ],
      "execution_count": 3,
      "outputs": []
    },
    {
      "cell_type": "code",
      "metadata": {
        "colab": {
          "base_uri": "https://localhost:8080/"
        },
        "id": "GSNiUqoeiQZH",
        "outputId": "2f3160c3-fe00-4c3f-bd82-422482dd1275"
      },
      "source": [
        "age_sample"
      ],
      "execution_count": 4,
      "outputs": [
        {
          "output_type": "execute_result",
          "data": {
            "text/plain": [
              "array([21, 18, 40, 10, 24, 55, 35, 10, 30, 20])"
            ]
          },
          "metadata": {
            "tags": []
          },
          "execution_count": 4
        }
      ]
    },
    {
      "cell_type": "code",
      "metadata": {
        "id": "yEnzlWLxiVQ6"
      },
      "source": [
        "from scipy.stats import ttest_1samp"
      ],
      "execution_count": 5,
      "outputs": []
    },
    {
      "cell_type": "code",
      "metadata": {
        "id": "jfHybRmTiapl"
      },
      "source": [
        "ttest,p_value= ttest_1samp(age_sample,ages_mean)"
      ],
      "execution_count": 6,
      "outputs": []
    },
    {
      "cell_type": "code",
      "metadata": {
        "colab": {
          "base_uri": "https://localhost:8080/"
        },
        "id": "1ktQXD42iovy",
        "outputId": "4705baa0-e631-4261-a5be-a177917e6b2e"
      },
      "source": [
        "print(ttest,p_value)"
      ],
      "execution_count": 7,
      "outputs": [
        {
          "output_type": "stream",
          "text": [
            "-0.9107863323567299 0.3861516951831093\n"
          ],
          "name": "stdout"
        }
      ]
    },
    {
      "cell_type": "code",
      "metadata": {
        "colab": {
          "base_uri": "https://localhost:8080/"
        },
        "id": "nYU1_K0tiraC",
        "outputId": "36700e75-0912-4e5e-d126-4036e34fb2df"
      },
      "source": [
        "if p_value < 0.05:\r\n",
        "  print('we are rejecting the Null Hypothesis: There is no difference between Sample Mean and Population Mean') # No difference between Sample Mean and Population Mean\r\n",
        "else:\r\n",
        "  print('we are accepting the Null Hypothesis:There is no difference between Sample Mean and Population Mean') # there is difference between Sample Mean and Population Mean"
      ],
      "execution_count": 9,
      "outputs": [
        {
          "output_type": "stream",
          "text": [
            "we are accepting the Alternate Hypothesis:There is difference between Sample Mean and Population Mean\n"
          ],
          "name": "stdout"
        }
      ]
    },
    {
      "cell_type": "markdown",
      "metadata": {
        "id": "0CcobMh7lsg5"
      },
      "source": [
        "**Problem Statement:**\r\n",
        "\r\n",
        "Is the sample means of two continuous variables and respecive population means different or not?"
      ]
    },
    {
      "cell_type": "code",
      "metadata": {
        "colab": {
          "base_uri": "https://localhost:8080/"
        },
        "id": "GEUuXmQfmgBS",
        "outputId": "cc651f5f-99ac-4bdf-daf2-a0a0fc2dcd08"
      },
      "source": [
        "np.random.seed(6)\r\n",
        "classA_ages=stats.poisson.rvs(loc=18,mu=30,size=60)\r\n",
        "classA_ages.mean()"
      ],
      "execution_count": 14,
      "outputs": [
        {
          "output_type": "execute_result",
          "data": {
            "text/plain": [
              "48.016666666666666"
            ]
          },
          "metadata": {
            "tags": []
          },
          "execution_count": 14
        }
      ]
    },
    {
      "cell_type": "code",
      "metadata": {
        "colab": {
          "base_uri": "https://localhost:8080/"
        },
        "id": "sjePc0T3i9kK",
        "outputId": "15147131-f0e6-4b74-fee0-338c273b974a"
      },
      "source": [
        "np.random.seed(12)\r\n",
        "ClassB_ages=stats.poisson.rvs(loc=18,mu=33,size=60)\r\n",
        "ClassB_ages.mean()"
      ],
      "execution_count": 12,
      "outputs": [
        {
          "output_type": "execute_result",
          "data": {
            "text/plain": [
              "50.63333333333333"
            ]
          },
          "metadata": {
            "tags": []
          },
          "execution_count": 12
        }
      ]
    },
    {
      "cell_type": "code",
      "metadata": {
        "colab": {
          "base_uri": "https://localhost:8080/"
        },
        "id": "ljSWMAcKl_HO",
        "outputId": "b4e9a96d-b70f-4251-f5a1-aeadf3a43064"
      },
      "source": [
        "ttest2,p_value=stats.ttest_ind(a=classA_ages,b=ClassB_ages,equal_var=False)\r\n",
        "p_value"
      ],
      "execution_count": 19,
      "outputs": [
        {
          "output_type": "execute_result",
          "data": {
            "text/plain": [
              "0.017232336215211357"
            ]
          },
          "metadata": {
            "tags": []
          },
          "execution_count": 19
        }
      ]
    },
    {
      "cell_type": "code",
      "metadata": {
        "colab": {
          "base_uri": "https://localhost:8080/"
        },
        "id": "Tv_4wP7PnDEG",
        "outputId": "3d6a6047-d187-4105-a8c3-65a4ae973196"
      },
      "source": [
        "if p_value < 0.05:    # alpha value is 0.05 or 5%\r\n",
        "    print(\" we are rejecting null hypothesis:i.e There is no diff between sample means with their populations\")\r\n",
        "else:\r\n",
        "    print(\"we are accepting null hypothesis: there is no diff between sample means with their populations\")"
      ],
      "execution_count": 22,
      "outputs": [
        {
          "output_type": "stream",
          "text": [
            " we are rejecting null hypothesis: there is no diff between sample means with their populations\n"
          ],
          "name": "stdout"
        }
      ]
    },
    {
      "cell_type": "code",
      "metadata": {
        "id": "GeyN8bAuoCuJ"
      },
      "source": [
        ""
      ],
      "execution_count": null,
      "outputs": []
    },
    {
      "cell_type": "markdown",
      "metadata": {
        "id": "JOyyeyGpqKBn"
      },
      "source": [
        "**Correlation**"
      ]
    },
    {
      "cell_type": "code",
      "metadata": {
        "id": "zPInrNqqoDTf"
      },
      "source": [
        "import seaborn as sns\r\n",
        "df=sns.load_dataset('iris')"
      ],
      "execution_count": 23,
      "outputs": []
    },
    {
      "cell_type": "code",
      "metadata": {
        "colab": {
          "base_uri": "https://localhost:8080/",
          "height": 173
        },
        "id": "rt-ni49gqMzi",
        "outputId": "b4c55a93-48ce-47bc-e9d3-1f6a10e10c99"
      },
      "source": [
        "df.corr()"
      ],
      "execution_count": 25,
      "outputs": [
        {
          "output_type": "execute_result",
          "data": {
            "text/html": [
              "<div>\n",
              "<style scoped>\n",
              "    .dataframe tbody tr th:only-of-type {\n",
              "        vertical-align: middle;\n",
              "    }\n",
              "\n",
              "    .dataframe tbody tr th {\n",
              "        vertical-align: top;\n",
              "    }\n",
              "\n",
              "    .dataframe thead th {\n",
              "        text-align: right;\n",
              "    }\n",
              "</style>\n",
              "<table border=\"1\" class=\"dataframe\">\n",
              "  <thead>\n",
              "    <tr style=\"text-align: right;\">\n",
              "      <th></th>\n",
              "      <th>sepal_length</th>\n",
              "      <th>sepal_width</th>\n",
              "      <th>petal_length</th>\n",
              "      <th>petal_width</th>\n",
              "    </tr>\n",
              "  </thead>\n",
              "  <tbody>\n",
              "    <tr>\n",
              "      <th>sepal_length</th>\n",
              "      <td>1.000000</td>\n",
              "      <td>-0.117570</td>\n",
              "      <td>0.871754</td>\n",
              "      <td>0.817941</td>\n",
              "    </tr>\n",
              "    <tr>\n",
              "      <th>sepal_width</th>\n",
              "      <td>-0.117570</td>\n",
              "      <td>1.000000</td>\n",
              "      <td>-0.428440</td>\n",
              "      <td>-0.366126</td>\n",
              "    </tr>\n",
              "    <tr>\n",
              "      <th>petal_length</th>\n",
              "      <td>0.871754</td>\n",
              "      <td>-0.428440</td>\n",
              "      <td>1.000000</td>\n",
              "      <td>0.962865</td>\n",
              "    </tr>\n",
              "    <tr>\n",
              "      <th>petal_width</th>\n",
              "      <td>0.817941</td>\n",
              "      <td>-0.366126</td>\n",
              "      <td>0.962865</td>\n",
              "      <td>1.000000</td>\n",
              "    </tr>\n",
              "  </tbody>\n",
              "</table>\n",
              "</div>"
            ],
            "text/plain": [
              "              sepal_length  sepal_width  petal_length  petal_width\n",
              "sepal_length      1.000000    -0.117570      0.871754     0.817941\n",
              "sepal_width      -0.117570     1.000000     -0.428440    -0.366126\n",
              "petal_length      0.871754    -0.428440      1.000000     0.962865\n",
              "petal_width       0.817941    -0.366126      0.962865     1.000000"
            ]
          },
          "metadata": {
            "tags": []
          },
          "execution_count": 25
        }
      ]
    },
    {
      "cell_type": "code",
      "metadata": {
        "id": "dKP3nufDqOYf"
      },
      "source": [
        ""
      ],
      "execution_count": null,
      "outputs": []
    },
    {
      "cell_type": "markdown",
      "metadata": {
        "id": "smFBX_OKrFDO"
      },
      "source": [
        "**Chi Square Test**"
      ]
    },
    {
      "cell_type": "code",
      "metadata": {
        "colab": {
          "base_uri": "https://localhost:8080/",
          "height": 204
        },
        "id": "I_ycXbsirHWQ",
        "outputId": "9f40ad85-e946-48ce-eaa3-b3cd381f6728"
      },
      "source": [
        "dataset=sns.load_dataset('tips')\r\n",
        "dataset.head()"
      ],
      "execution_count": 32,
      "outputs": [
        {
          "output_type": "execute_result",
          "data": {
            "text/html": [
              "<div>\n",
              "<style scoped>\n",
              "    .dataframe tbody tr th:only-of-type {\n",
              "        vertical-align: middle;\n",
              "    }\n",
              "\n",
              "    .dataframe tbody tr th {\n",
              "        vertical-align: top;\n",
              "    }\n",
              "\n",
              "    .dataframe thead th {\n",
              "        text-align: right;\n",
              "    }\n",
              "</style>\n",
              "<table border=\"1\" class=\"dataframe\">\n",
              "  <thead>\n",
              "    <tr style=\"text-align: right;\">\n",
              "      <th></th>\n",
              "      <th>total_bill</th>\n",
              "      <th>tip</th>\n",
              "      <th>sex</th>\n",
              "      <th>smoker</th>\n",
              "      <th>day</th>\n",
              "      <th>time</th>\n",
              "      <th>size</th>\n",
              "    </tr>\n",
              "  </thead>\n",
              "  <tbody>\n",
              "    <tr>\n",
              "      <th>0</th>\n",
              "      <td>16.99</td>\n",
              "      <td>1.01</td>\n",
              "      <td>Female</td>\n",
              "      <td>No</td>\n",
              "      <td>Sun</td>\n",
              "      <td>Dinner</td>\n",
              "      <td>2</td>\n",
              "    </tr>\n",
              "    <tr>\n",
              "      <th>1</th>\n",
              "      <td>10.34</td>\n",
              "      <td>1.66</td>\n",
              "      <td>Male</td>\n",
              "      <td>No</td>\n",
              "      <td>Sun</td>\n",
              "      <td>Dinner</td>\n",
              "      <td>3</td>\n",
              "    </tr>\n",
              "    <tr>\n",
              "      <th>2</th>\n",
              "      <td>21.01</td>\n",
              "      <td>3.50</td>\n",
              "      <td>Male</td>\n",
              "      <td>No</td>\n",
              "      <td>Sun</td>\n",
              "      <td>Dinner</td>\n",
              "      <td>3</td>\n",
              "    </tr>\n",
              "    <tr>\n",
              "      <th>3</th>\n",
              "      <td>23.68</td>\n",
              "      <td>3.31</td>\n",
              "      <td>Male</td>\n",
              "      <td>No</td>\n",
              "      <td>Sun</td>\n",
              "      <td>Dinner</td>\n",
              "      <td>2</td>\n",
              "    </tr>\n",
              "    <tr>\n",
              "      <th>4</th>\n",
              "      <td>24.59</td>\n",
              "      <td>3.61</td>\n",
              "      <td>Female</td>\n",
              "      <td>No</td>\n",
              "      <td>Sun</td>\n",
              "      <td>Dinner</td>\n",
              "      <td>4</td>\n",
              "    </tr>\n",
              "  </tbody>\n",
              "</table>\n",
              "</div>"
            ],
            "text/plain": [
              "   total_bill   tip     sex smoker  day    time  size\n",
              "0       16.99  1.01  Female     No  Sun  Dinner     2\n",
              "1       10.34  1.66    Male     No  Sun  Dinner     3\n",
              "2       21.01  3.50    Male     No  Sun  Dinner     3\n",
              "3       23.68  3.31    Male     No  Sun  Dinner     2\n",
              "4       24.59  3.61  Female     No  Sun  Dinner     4"
            ]
          },
          "metadata": {
            "tags": []
          },
          "execution_count": 32
        }
      ]
    },
    {
      "cell_type": "code",
      "metadata": {
        "colab": {
          "base_uri": "https://localhost:8080/"
        },
        "id": "8vIpfBsgrL8I",
        "outputId": "740b105a-a2e8-4621-eb74-fcebc5555d02"
      },
      "source": [
        "dataset.isnull().sum()"
      ],
      "execution_count": 29,
      "outputs": [
        {
          "output_type": "execute_result",
          "data": {
            "text/plain": [
              "total_bill    0\n",
              "tip           0\n",
              "sex           0\n",
              "smoker        0\n",
              "day           0\n",
              "time          0\n",
              "size          0\n",
              "dtype: int64"
            ]
          },
          "metadata": {
            "tags": []
          },
          "execution_count": 29
        }
      ]
    },
    {
      "cell_type": "code",
      "metadata": {
        "colab": {
          "base_uri": "https://localhost:8080/"
        },
        "id": "oFrZLGDErO0N",
        "outputId": "2da8741e-d734-495e-93e7-c238b9178d6f"
      },
      "source": [
        "dataset.day.value_counts()"
      ],
      "execution_count": 35,
      "outputs": [
        {
          "output_type": "execute_result",
          "data": {
            "text/plain": [
              "Sat     87\n",
              "Sun     76\n",
              "Thur    62\n",
              "Fri     19\n",
              "Name: day, dtype: int64"
            ]
          },
          "metadata": {
            "tags": []
          },
          "execution_count": 35
        }
      ]
    },
    {
      "cell_type": "code",
      "metadata": {
        "colab": {
          "base_uri": "https://localhost:8080/",
          "height": 142
        },
        "id": "p5WV-4Gbrhfo",
        "outputId": "4ad85789-c2dc-4640-abbc-6139a9ddf53d"
      },
      "source": [
        "dataset.corr()"
      ],
      "execution_count": 36,
      "outputs": [
        {
          "output_type": "execute_result",
          "data": {
            "text/html": [
              "<div>\n",
              "<style scoped>\n",
              "    .dataframe tbody tr th:only-of-type {\n",
              "        vertical-align: middle;\n",
              "    }\n",
              "\n",
              "    .dataframe tbody tr th {\n",
              "        vertical-align: top;\n",
              "    }\n",
              "\n",
              "    .dataframe thead th {\n",
              "        text-align: right;\n",
              "    }\n",
              "</style>\n",
              "<table border=\"1\" class=\"dataframe\">\n",
              "  <thead>\n",
              "    <tr style=\"text-align: right;\">\n",
              "      <th></th>\n",
              "      <th>total_bill</th>\n",
              "      <th>tip</th>\n",
              "      <th>size</th>\n",
              "    </tr>\n",
              "  </thead>\n",
              "  <tbody>\n",
              "    <tr>\n",
              "      <th>total_bill</th>\n",
              "      <td>1.000000</td>\n",
              "      <td>0.675734</td>\n",
              "      <td>0.598315</td>\n",
              "    </tr>\n",
              "    <tr>\n",
              "      <th>tip</th>\n",
              "      <td>0.675734</td>\n",
              "      <td>1.000000</td>\n",
              "      <td>0.489299</td>\n",
              "    </tr>\n",
              "    <tr>\n",
              "      <th>size</th>\n",
              "      <td>0.598315</td>\n",
              "      <td>0.489299</td>\n",
              "      <td>1.000000</td>\n",
              "    </tr>\n",
              "  </tbody>\n",
              "</table>\n",
              "</div>"
            ],
            "text/plain": [
              "            total_bill       tip      size\n",
              "total_bill    1.000000  0.675734  0.598315\n",
              "tip           0.675734  1.000000  0.489299\n",
              "size          0.598315  0.489299  1.000000"
            ]
          },
          "metadata": {
            "tags": []
          },
          "execution_count": 36
        }
      ]
    },
    {
      "cell_type": "code",
      "metadata": {
        "colab": {
          "base_uri": "https://localhost:8080/"
        },
        "id": "jSLgRFal0bP_",
        "outputId": "8ea0a14c-98db-4a56-a8d3-ac85caa31ce0"
      },
      "source": [
        "dataset_table=pd.crosstab(dataset['sex'],dataset['smoker'])\r\n",
        "print(dataset_table)"
      ],
      "execution_count": 37,
      "outputs": [
        {
          "output_type": "stream",
          "text": [
            "smoker  Yes  No\n",
            "sex            \n",
            "Male     60  97\n",
            "Female   33  54\n"
          ],
          "name": "stdout"
        }
      ]
    },
    {
      "cell_type": "code",
      "metadata": {
        "colab": {
          "base_uri": "https://localhost:8080/"
        },
        "id": "2GzKXFz90jBf",
        "outputId": "c00a9fe6-9405-4dd0-b7b3-6630ba270bd8"
      },
      "source": [
        "dataset_table.values "
      ],
      "execution_count": 38,
      "outputs": [
        {
          "output_type": "execute_result",
          "data": {
            "text/plain": [
              "array([[60, 97],\n",
              "       [33, 54]])"
            ]
          },
          "metadata": {
            "tags": []
          },
          "execution_count": 38
        }
      ]
    },
    {
      "cell_type": "code",
      "metadata": {
        "colab": {
          "base_uri": "https://localhost:8080/"
        },
        "id": "2oyBj3Px0mHZ",
        "outputId": "5f35578d-c16f-4fcb-8495-431116ceea9a"
      },
      "source": [
        "Observed_Values = dataset_table.values \r\n",
        "print(\"Observed Values :\\n\",Observed_Values)"
      ],
      "execution_count": 39,
      "outputs": [
        {
          "output_type": "stream",
          "text": [
            "Observed Values :\n",
            " [[60 97]\n",
            " [33 54]]\n"
          ],
          "name": "stdout"
        }
      ]
    },
    {
      "cell_type": "code",
      "metadata": {
        "colab": {
          "base_uri": "https://localhost:8080/"
        },
        "id": "M2bkJ4Y50qr_",
        "outputId": "36e80536-0688-4cde-9a82-1cebff7556f9"
      },
      "source": [
        "val=stats.chi2_contingency(dataset_table)\r\n",
        "val"
      ],
      "execution_count": 41,
      "outputs": [
        {
          "output_type": "execute_result",
          "data": {
            "text/plain": [
              "(0.008763290531773594, 0.925417020494423, 1, array([[59.84016393, 97.15983607],\n",
              "        [33.15983607, 53.84016393]]))"
            ]
          },
          "metadata": {
            "tags": []
          },
          "execution_count": 41
        }
      ]
    },
    {
      "cell_type": "code",
      "metadata": {
        "colab": {
          "base_uri": "https://localhost:8080/"
        },
        "id": "Gb0Oo0do0vHw",
        "outputId": "4c569877-abea-46e3-c8b6-22489877a656"
      },
      "source": [
        "Expected_Values=val[3]\r\n",
        "Expected_Values"
      ],
      "execution_count": 43,
      "outputs": [
        {
          "output_type": "execute_result",
          "data": {
            "text/plain": [
              "array([[59.84016393, 97.15983607],\n",
              "       [33.15983607, 53.84016393]])"
            ]
          },
          "metadata": {
            "tags": []
          },
          "execution_count": 43
        }
      ]
    },
    {
      "cell_type": "code",
      "metadata": {
        "colab": {
          "base_uri": "https://localhost:8080/"
        },
        "id": "whDTgtWh01Jb",
        "outputId": "830c8e6a-7ec2-4dac-f6ca-95a287ca5657"
      },
      "source": [
        "no_of_rows=len(dataset_table.iloc[0:2,0])\r\n",
        "no_of_columns=len(dataset_table.iloc[0,0:2])\r\n",
        "ddof=(no_of_rows-1)*(no_of_columns-1)\r\n",
        "print(\"Degree of Freedom:-\",ddof)\r\n",
        "alpha = 0.05"
      ],
      "execution_count": 44,
      "outputs": [
        {
          "output_type": "stream",
          "text": [
            "Degree of Freedom:- 1\n"
          ],
          "name": "stdout"
        }
      ]
    },
    {
      "cell_type": "code",
      "metadata": {
        "id": "adOxKkQm08U4"
      },
      "source": [
        "from scipy.stats import chi2\r\n",
        "chi_square=sum([(o-e)**2./e for o,e in zip(Observed_Values,Expected_Values)])\r\n",
        "chi_square_statistic=chi_square[0]+chi_square[1]"
      ],
      "execution_count": 46,
      "outputs": []
    },
    {
      "cell_type": "code",
      "metadata": {
        "colab": {
          "base_uri": "https://localhost:8080/"
        },
        "id": "mRkfLu1w1I-T",
        "outputId": "1db2b7d7-13f4-4286-b425-5a94f56df474"
      },
      "source": [
        "chi_square"
      ],
      "execution_count": 47,
      "outputs": [
        {
          "output_type": "execute_result",
          "data": {
            "text/plain": [
              "array([0.00119737, 0.00073745])"
            ]
          },
          "metadata": {
            "tags": []
          },
          "execution_count": 47
        }
      ]
    },
    {
      "cell_type": "code",
      "metadata": {
        "colab": {
          "base_uri": "https://localhost:8080/"
        },
        "id": "cWAv66351PFI",
        "outputId": "a033b75e-d724-46c4-8f29-f5e0bc8a4ae5"
      },
      "source": [
        "chi_square_statistic"
      ],
      "execution_count": 48,
      "outputs": [
        {
          "output_type": "execute_result",
          "data": {
            "text/plain": [
              "0.001934818536627623"
            ]
          },
          "metadata": {
            "tags": []
          },
          "execution_count": 48
        }
      ]
    },
    {
      "cell_type": "code",
      "metadata": {
        "colab": {
          "base_uri": "https://localhost:8080/"
        },
        "id": "58eIvE3C1knG",
        "outputId": "c3f59797-9786-499a-e906-b7aa7aead45a"
      },
      "source": [
        "critical_value=chi2.ppf(q=1-alpha,df=ddof)\r\n",
        "print('critical_value:',critical_value)"
      ],
      "execution_count": 49,
      "outputs": [
        {
          "output_type": "stream",
          "text": [
            "critical_value: 3.841458820694124\n"
          ],
          "name": "stdout"
        }
      ]
    },
    {
      "cell_type": "code",
      "metadata": {
        "colab": {
          "base_uri": "https://localhost:8080/"
        },
        "id": "PbvlNPcB1pRt",
        "outputId": "38e2648f-52e8-424e-ef28-db2b95cad542"
      },
      "source": [
        "p_value=1-chi2.cdf(x=chi_square_statistic,df=ddof)\r\n",
        "print('p-value:',p_value)\r\n",
        "print('Significance level: ',alpha)\r\n",
        "print('Degree of Freedom: ',ddof)\r\n",
        "print('p-value:',p_value)"
      ],
      "execution_count": 50,
      "outputs": [
        {
          "output_type": "stream",
          "text": [
            "p-value: 0.964915107315732\n",
            "Significance level:  0.05\n",
            "Degree of Freedom:  1\n",
            "p-value: 0.964915107315732\n"
          ],
          "name": "stdout"
        }
      ]
    },
    {
      "cell_type": "code",
      "metadata": {
        "colab": {
          "base_uri": "https://localhost:8080/"
        },
        "id": "uEn7Yl4o1sas",
        "outputId": "e048e4e8-5f20-4cfd-e83e-693475fb17a8"
      },
      "source": [
        "if chi_square_statistic>=critical_value:\r\n",
        "    print(\"Reject H0,There is a relationship between 2 categorical variables\")\r\n",
        "else:\r\n",
        "    print(\"Accept H0,There is no relationship between 2 categorical variables\")\r\n",
        "    \r\n",
        "if p_value<=alpha:\r\n",
        "    print(\"Reject H0,There is a relationship between 2 categorical variables\")\r\n",
        "else:\r\n",
        "    print(\"Accept H0,There is no relationship between 2 categorical variables\")"
      ],
      "execution_count": 55,
      "outputs": [
        {
          "output_type": "stream",
          "text": [
            "Accept H0,There is no relationship between 2 categorical variables\n",
            "Accept H0,There is no relationship between 2 categorical variables\n"
          ],
          "name": "stdout"
        }
      ]
    },
    {
      "cell_type": "code",
      "metadata": {
        "id": "4nECYUHk1vI1"
      },
      "source": [
        ""
      ],
      "execution_count": null,
      "outputs": []
    }
  ]
}