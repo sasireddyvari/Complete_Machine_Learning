{
  "nbformat": 4,
  "nbformat_minor": 0,
  "metadata": {
    "colab": {
      "name": "FeatureEngineering.ipynb",
      "provenance": [],
      "collapsed_sections": [],
      "mount_file_id": "1gH1zDqJgYxmSf3251JkCKkfRytfAO1n9",
      "authorship_tag": "ABX9TyM7JN93bDgnSpQS6TswgMG/",
      "include_colab_link": true
    },
    "kernelspec": {
      "name": "python3",
      "display_name": "Python 3"
    }
  },
  "cells": [
    {
      "cell_type": "markdown",
      "metadata": {
        "id": "view-in-github",
        "colab_type": "text"
      },
      "source": [
        "<a href=\"https://colab.research.google.com/github/sasireddyvari/LifeCycle_DataScience/blob/master/FeatureEngineering.ipynb\" target=\"_parent\"><img src=\"https://colab.research.google.com/assets/colab-badge.svg\" alt=\"Open In Colab\"/></a>"
      ]
    },
    {
      "cell_type": "markdown",
      "metadata": {
        "id": "eFA5GoLbCd4x"
      },
      "source": [
        "**One hot encoding to handle multiple categories in one feature**"
      ]
    },
    {
      "cell_type": "code",
      "metadata": {
        "colab": {
          "base_uri": "https://localhost:8080/"
        },
        "id": "GVLjfD6pDTCc",
        "outputId": "5b476570-cd19-45c8-f43e-2628fd3acc74"
      },
      "source": [
        "!unzip '/content/drive/MyDrive/Colab Notebooks/mercedes-benz-data-exploration.zip'"
      ],
      "execution_count": null,
      "outputs": [
        {
          "output_type": "stream",
          "text": [
            "Archive:  /content/drive/MyDrive/Colab Notebooks/mercedes-benz-data-exploration.zip\n",
            "   creating: mercedes-benz-data-exploration/\n",
            "   creating: mercedes-benz-data-exploration/sample_submission.csv/\n",
            "  inflating: mercedes-benz-data-exploration/sample_submission.csv/sample_submission.csv  \n",
            "   creating: mercedes-benz-data-exploration/test.csv/\n",
            "  inflating: mercedes-benz-data-exploration/test.csv/test.csv  \n",
            "   creating: mercedes-benz-data-exploration/train.csv/\n",
            "  inflating: mercedes-benz-data-exploration/train.csv/train.csv  \n"
          ],
          "name": "stdout"
        }
      ]
    },
    {
      "cell_type": "code",
      "metadata": {
        "id": "Mf0GbzCdDma1"
      },
      "source": [
        "import pandas as pd\n",
        "import numpy as np"
      ],
      "execution_count": null,
      "outputs": []
    },
    {
      "cell_type": "code",
      "metadata": {
        "id": "efdYFyEtEEAX"
      },
      "source": [
        "data=pd.read_csv('/content/mercedes-benz-data-exploration/train.csv/train.csv',usecols=['X1','X2','X3','X4','X5','X6'])"
      ],
      "execution_count": null,
      "outputs": []
    },
    {
      "cell_type": "code",
      "metadata": {
        "colab": {
          "base_uri": "https://localhost:8080/",
          "height": 204
        },
        "id": "94uMky_SEGi7",
        "outputId": "86126dc5-7eb1-4936-c192-c9eaf2b538a3"
      },
      "source": [
        "data.head()"
      ],
      "execution_count": null,
      "outputs": [
        {
          "output_type": "execute_result",
          "data": {
            "text/html": [
              "<div>\n",
              "<style scoped>\n",
              "    .dataframe tbody tr th:only-of-type {\n",
              "        vertical-align: middle;\n",
              "    }\n",
              "\n",
              "    .dataframe tbody tr th {\n",
              "        vertical-align: top;\n",
              "    }\n",
              "\n",
              "    .dataframe thead th {\n",
              "        text-align: right;\n",
              "    }\n",
              "</style>\n",
              "<table border=\"1\" class=\"dataframe\">\n",
              "  <thead>\n",
              "    <tr style=\"text-align: right;\">\n",
              "      <th></th>\n",
              "      <th>X1</th>\n",
              "      <th>X2</th>\n",
              "      <th>X3</th>\n",
              "      <th>X4</th>\n",
              "      <th>X5</th>\n",
              "      <th>X6</th>\n",
              "    </tr>\n",
              "  </thead>\n",
              "  <tbody>\n",
              "    <tr>\n",
              "      <th>0</th>\n",
              "      <td>v</td>\n",
              "      <td>at</td>\n",
              "      <td>a</td>\n",
              "      <td>d</td>\n",
              "      <td>u</td>\n",
              "      <td>j</td>\n",
              "    </tr>\n",
              "    <tr>\n",
              "      <th>1</th>\n",
              "      <td>t</td>\n",
              "      <td>av</td>\n",
              "      <td>e</td>\n",
              "      <td>d</td>\n",
              "      <td>y</td>\n",
              "      <td>l</td>\n",
              "    </tr>\n",
              "    <tr>\n",
              "      <th>2</th>\n",
              "      <td>w</td>\n",
              "      <td>n</td>\n",
              "      <td>c</td>\n",
              "      <td>d</td>\n",
              "      <td>x</td>\n",
              "      <td>j</td>\n",
              "    </tr>\n",
              "    <tr>\n",
              "      <th>3</th>\n",
              "      <td>t</td>\n",
              "      <td>n</td>\n",
              "      <td>f</td>\n",
              "      <td>d</td>\n",
              "      <td>x</td>\n",
              "      <td>l</td>\n",
              "    </tr>\n",
              "    <tr>\n",
              "      <th>4</th>\n",
              "      <td>v</td>\n",
              "      <td>n</td>\n",
              "      <td>f</td>\n",
              "      <td>d</td>\n",
              "      <td>h</td>\n",
              "      <td>d</td>\n",
              "    </tr>\n",
              "  </tbody>\n",
              "</table>\n",
              "</div>"
            ],
            "text/plain": [
              "  X1  X2 X3 X4 X5 X6\n",
              "0  v  at  a  d  u  j\n",
              "1  t  av  e  d  y  l\n",
              "2  w   n  c  d  x  j\n",
              "3  t   n  f  d  x  l\n",
              "4  v   n  f  d  h  d"
            ]
          },
          "metadata": {
            "tags": []
          },
          "execution_count": 6
        }
      ]
    },
    {
      "cell_type": "code",
      "metadata": {
        "colab": {
          "base_uri": "https://localhost:8080/"
        },
        "id": "RM3cHpD8EIX3",
        "outputId": "5d6507a8-ffe9-4ff6-a886-cbb74393a597"
      },
      "source": [
        "for col in data:\n",
        "  print(col ,':', len(data[col].unique()) , 'labels')"
      ],
      "execution_count": null,
      "outputs": [
        {
          "output_type": "stream",
          "text": [
            "X1 : 27 labels\n",
            "X2 : 44 labels\n",
            "X3 : 7 labels\n",
            "X4 : 4 labels\n",
            "X5 : 29 labels\n",
            "X6 : 12 labels\n"
          ],
          "name": "stdout"
        }
      ]
    },
    {
      "cell_type": "code",
      "metadata": {
        "id": "O6dYffrcEr5Y"
      },
      "source": [
        "data_encoding=pd.get_dummies(data,drop_first=True)"
      ],
      "execution_count": null,
      "outputs": []
    },
    {
      "cell_type": "code",
      "metadata": {
        "colab": {
          "base_uri": "https://localhost:8080/"
        },
        "id": "y7nusjJJFond",
        "outputId": "d80f5d50-aa3d-4cf6-b8a0-a90a31065e05"
      },
      "source": [
        "data_encoding.shape"
      ],
      "execution_count": null,
      "outputs": [
        {
          "output_type": "execute_result",
          "data": {
            "text/plain": [
              "(4209, 117)"
            ]
          },
          "metadata": {
            "tags": []
          },
          "execution_count": 19
        }
      ]
    },
    {
      "cell_type": "markdown",
      "metadata": {
        "id": "WU702_sEGC5A"
      },
      "source": [
        "**As we did one hot encoding for 5 random variables but got 117 random variables. This might increase dimensionality , Hence one hot is done for most repeated categories**"
      ]
    },
    {
      "cell_type": "code",
      "metadata": {
        "colab": {
          "base_uri": "https://localhost:8080/",
          "height": 204
        },
        "id": "tapYv0hVF1Up",
        "outputId": "ead3f200-192a-48b1-b61d-ec6e83baea9a"
      },
      "source": [
        "data.head()"
      ],
      "execution_count": null,
      "outputs": [
        {
          "output_type": "execute_result",
          "data": {
            "text/html": [
              "<div>\n",
              "<style scoped>\n",
              "    .dataframe tbody tr th:only-of-type {\n",
              "        vertical-align: middle;\n",
              "    }\n",
              "\n",
              "    .dataframe tbody tr th {\n",
              "        vertical-align: top;\n",
              "    }\n",
              "\n",
              "    .dataframe thead th {\n",
              "        text-align: right;\n",
              "    }\n",
              "</style>\n",
              "<table border=\"1\" class=\"dataframe\">\n",
              "  <thead>\n",
              "    <tr style=\"text-align: right;\">\n",
              "      <th></th>\n",
              "      <th>X1</th>\n",
              "      <th>X2</th>\n",
              "      <th>X3</th>\n",
              "      <th>X4</th>\n",
              "      <th>X5</th>\n",
              "      <th>X6</th>\n",
              "    </tr>\n",
              "  </thead>\n",
              "  <tbody>\n",
              "    <tr>\n",
              "      <th>0</th>\n",
              "      <td>v</td>\n",
              "      <td>at</td>\n",
              "      <td>a</td>\n",
              "      <td>d</td>\n",
              "      <td>u</td>\n",
              "      <td>j</td>\n",
              "    </tr>\n",
              "    <tr>\n",
              "      <th>1</th>\n",
              "      <td>t</td>\n",
              "      <td>av</td>\n",
              "      <td>e</td>\n",
              "      <td>d</td>\n",
              "      <td>y</td>\n",
              "      <td>l</td>\n",
              "    </tr>\n",
              "    <tr>\n",
              "      <th>2</th>\n",
              "      <td>w</td>\n",
              "      <td>n</td>\n",
              "      <td>c</td>\n",
              "      <td>d</td>\n",
              "      <td>x</td>\n",
              "      <td>j</td>\n",
              "    </tr>\n",
              "    <tr>\n",
              "      <th>3</th>\n",
              "      <td>t</td>\n",
              "      <td>n</td>\n",
              "      <td>f</td>\n",
              "      <td>d</td>\n",
              "      <td>x</td>\n",
              "      <td>l</td>\n",
              "    </tr>\n",
              "    <tr>\n",
              "      <th>4</th>\n",
              "      <td>v</td>\n",
              "      <td>n</td>\n",
              "      <td>f</td>\n",
              "      <td>d</td>\n",
              "      <td>h</td>\n",
              "      <td>d</td>\n",
              "    </tr>\n",
              "  </tbody>\n",
              "</table>\n",
              "</div>"
            ],
            "text/plain": [
              "  X1  X2 X3 X4 X5 X6\n",
              "0  v  at  a  d  u  j\n",
              "1  t  av  e  d  y  l\n",
              "2  w   n  c  d  x  j\n",
              "3  t   n  f  d  x  l\n",
              "4  v   n  f  d  h  d"
            ]
          },
          "metadata": {
            "tags": []
          },
          "execution_count": 20
        }
      ]
    },
    {
      "cell_type": "code",
      "metadata": {
        "colab": {
          "base_uri": "https://localhost:8080/"
        },
        "id": "wu124ckRG1pJ",
        "outputId": "16de7d5b-a3ce-49b5-c4c1-7b1c0eb01b6d"
      },
      "source": [
        "len(data['X1'].unique())"
      ],
      "execution_count": null,
      "outputs": [
        {
          "output_type": "execute_result",
          "data": {
            "text/plain": [
              "27"
            ]
          },
          "metadata": {
            "tags": []
          },
          "execution_count": 22
        }
      ]
    },
    {
      "cell_type": "code",
      "metadata": {
        "colab": {
          "base_uri": "https://localhost:8080/"
        },
        "id": "rbz4A9RzG-ds",
        "outputId": "427bb2f4-5512-423d-92cf-964c756b34bb"
      },
      "source": [
        "data['X1'].value_counts().sort_values(ascending=False)"
      ],
      "execution_count": null,
      "outputs": [
        {
          "output_type": "execute_result",
          "data": {
            "text/plain": [
              "aa    833\n",
              "s     598\n",
              "b     592\n",
              "l     590\n",
              "v     408\n",
              "r     251\n",
              "i     203\n",
              "a     143\n",
              "c     121\n",
              "o      82\n",
              "w      52\n",
              "z      46\n",
              "u      37\n",
              "e      33\n",
              "m      32\n",
              "t      31\n",
              "h      29\n",
              "y      23\n",
              "f      23\n",
              "j      22\n",
              "n      19\n",
              "k      17\n",
              "p       9\n",
              "g       6\n",
              "d       3\n",
              "q       3\n",
              "ab      3\n",
              "Name: X1, dtype: int64"
            ]
          },
          "metadata": {
            "tags": []
          },
          "execution_count": 27
        }
      ]
    },
    {
      "cell_type": "code",
      "metadata": {
        "colab": {
          "base_uri": "https://localhost:8080/"
        },
        "id": "qARpYHvDHLsu",
        "outputId": "341cfbf0-6f9f-4e78-a237-3acbac3e429e"
      },
      "source": [
        "data['X1'].value_counts().sort_values(ascending=False).head(20)"
      ],
      "execution_count": null,
      "outputs": [
        {
          "output_type": "execute_result",
          "data": {
            "text/plain": [
              "aa    833\n",
              "s     598\n",
              "b     592\n",
              "l     590\n",
              "v     408\n",
              "r     251\n",
              "i     203\n",
              "a     143\n",
              "c     121\n",
              "o      82\n",
              "w      52\n",
              "z      46\n",
              "u      37\n",
              "e      33\n",
              "m      32\n",
              "t      31\n",
              "h      29\n",
              "y      23\n",
              "f      23\n",
              "j      22\n",
              "Name: X1, dtype: int64"
            ]
          },
          "metadata": {
            "tags": []
          },
          "execution_count": 28
        }
      ]
    },
    {
      "cell_type": "code",
      "metadata": {
        "colab": {
          "base_uri": "https://localhost:8080/"
        },
        "id": "ENW8iNBEH2Xi",
        "outputId": "39be4951-2e80-40fd-fb2e-2db510611114"
      },
      "source": [
        "data['X1'].value_counts().sort_values(ascending=False).head(10)"
      ],
      "execution_count": null,
      "outputs": [
        {
          "output_type": "execute_result",
          "data": {
            "text/plain": [
              "aa    833\n",
              "s     598\n",
              "b     592\n",
              "l     590\n",
              "v     408\n",
              "r     251\n",
              "i     203\n",
              "a     143\n",
              "c     121\n",
              "o      82\n",
              "Name: X1, dtype: int64"
            ]
          },
          "metadata": {
            "tags": []
          },
          "execution_count": 30
        }
      ]
    },
    {
      "cell_type": "code",
      "metadata": {
        "colab": {
          "base_uri": "https://localhost:8080/"
        },
        "id": "nW9eg8-FH7SN",
        "outputId": "689c9dae-5d12-4cce-e069-9523e5a61bd4"
      },
      "source": [
        "top_10=[x for x in data.X1.value_counts().sort_values(ascending=False).head(10).index]\n",
        "top_10"
      ],
      "execution_count": null,
      "outputs": [
        {
          "output_type": "execute_result",
          "data": {
            "text/plain": [
              "['aa', 's', 'b', 'l', 'v', 'r', 'i', 'a', 'c', 'o']"
            ]
          },
          "metadata": {
            "tags": []
          },
          "execution_count": 32
        }
      ]
    },
    {
      "cell_type": "code",
      "metadata": {
        "colab": {
          "base_uri": "https://localhost:8080/"
        },
        "id": "Ec2Bucq5JTWV",
        "outputId": "6791233d-a126-4ac6-d5f1-b42988a00c36"
      },
      "source": [
        "def one_hot_top(df,variable,top_categories):\n",
        "  for category in top_categories:\n",
        "    data[variable +'_'+ category]=np.where(data[variable]==category,1,0)\n"
      ],
      "execution_count": null,
      "outputs": [
        {
          "output_type": "execute_result",
          "data": {
            "text/plain": [
              "(4209, 16)"
            ]
          },
          "metadata": {
            "tags": []
          },
          "execution_count": 37
        }
      ]
    },
    {
      "cell_type": "code",
      "metadata": {
        "id": "bXXpg38WL4Mg"
      },
      "source": [
        "data=pd.read_csv('/content/mercedes-benz-data-exploration/train.csv/train.csv',usecols=['X1','X2','X3','X4','X5','X6'])"
      ],
      "execution_count": null,
      "outputs": []
    },
    {
      "cell_type": "code",
      "metadata": {
        "colab": {
          "base_uri": "https://localhost:8080/"
        },
        "id": "BtPz1mSeL-NZ",
        "outputId": "bd8ba982-f810-4c9f-981d-710752c27047"
      },
      "source": [
        "for variable in data:\n",
        "  one_hot_top(data,variable,top_10)\n",
        "data.shape"
      ],
      "execution_count": null,
      "outputs": [
        {
          "output_type": "execute_result",
          "data": {
            "text/plain": [
              "(4209, 66)"
            ]
          },
          "metadata": {
            "tags": []
          },
          "execution_count": 39
        }
      ]
    },
    {
      "cell_type": "code",
      "metadata": {
        "id": "nObyA8jeMT1m"
      },
      "source": [
        ""
      ],
      "execution_count": null,
      "outputs": []
    },
    {
      "cell_type": "markdown",
      "metadata": {
        "id": "pEST9uqbjs8q"
      },
      "source": [
        "**Count/Frequency Encoding : Ordinal Technique**"
      ]
    },
    {
      "cell_type": "code",
      "metadata": {
        "id": "C5Jcwcd3jwl7"
      },
      "source": [
        "data=pd.read_csv('/content/mercedes-benz-data-exploration/train.csv/train.csv',usecols=['X1','X2','X3','X4','X5','X6'])"
      ],
      "execution_count": null,
      "outputs": []
    },
    {
      "cell_type": "code",
      "metadata": {
        "colab": {
          "base_uri": "https://localhost:8080/",
          "height": 359
        },
        "id": "7h4JTNDtjzTz",
        "outputId": "071a621f-b0bc-40ef-89ef-d0c87f6080dd"
      },
      "source": [
        "data.head(10)"
      ],
      "execution_count": null,
      "outputs": [
        {
          "output_type": "execute_result",
          "data": {
            "text/html": [
              "<div>\n",
              "<style scoped>\n",
              "    .dataframe tbody tr th:only-of-type {\n",
              "        vertical-align: middle;\n",
              "    }\n",
              "\n",
              "    .dataframe tbody tr th {\n",
              "        vertical-align: top;\n",
              "    }\n",
              "\n",
              "    .dataframe thead th {\n",
              "        text-align: right;\n",
              "    }\n",
              "</style>\n",
              "<table border=\"1\" class=\"dataframe\">\n",
              "  <thead>\n",
              "    <tr style=\"text-align: right;\">\n",
              "      <th></th>\n",
              "      <th>X1</th>\n",
              "      <th>X2</th>\n",
              "      <th>X3</th>\n",
              "      <th>X4</th>\n",
              "      <th>X5</th>\n",
              "      <th>X6</th>\n",
              "    </tr>\n",
              "  </thead>\n",
              "  <tbody>\n",
              "    <tr>\n",
              "      <th>0</th>\n",
              "      <td>v</td>\n",
              "      <td>at</td>\n",
              "      <td>a</td>\n",
              "      <td>d</td>\n",
              "      <td>u</td>\n",
              "      <td>j</td>\n",
              "    </tr>\n",
              "    <tr>\n",
              "      <th>1</th>\n",
              "      <td>t</td>\n",
              "      <td>av</td>\n",
              "      <td>e</td>\n",
              "      <td>d</td>\n",
              "      <td>y</td>\n",
              "      <td>l</td>\n",
              "    </tr>\n",
              "    <tr>\n",
              "      <th>2</th>\n",
              "      <td>w</td>\n",
              "      <td>n</td>\n",
              "      <td>c</td>\n",
              "      <td>d</td>\n",
              "      <td>x</td>\n",
              "      <td>j</td>\n",
              "    </tr>\n",
              "    <tr>\n",
              "      <th>3</th>\n",
              "      <td>t</td>\n",
              "      <td>n</td>\n",
              "      <td>f</td>\n",
              "      <td>d</td>\n",
              "      <td>x</td>\n",
              "      <td>l</td>\n",
              "    </tr>\n",
              "    <tr>\n",
              "      <th>4</th>\n",
              "      <td>v</td>\n",
              "      <td>n</td>\n",
              "      <td>f</td>\n",
              "      <td>d</td>\n",
              "      <td>h</td>\n",
              "      <td>d</td>\n",
              "    </tr>\n",
              "    <tr>\n",
              "      <th>5</th>\n",
              "      <td>b</td>\n",
              "      <td>e</td>\n",
              "      <td>c</td>\n",
              "      <td>d</td>\n",
              "      <td>g</td>\n",
              "      <td>h</td>\n",
              "    </tr>\n",
              "    <tr>\n",
              "      <th>6</th>\n",
              "      <td>r</td>\n",
              "      <td>e</td>\n",
              "      <td>f</td>\n",
              "      <td>d</td>\n",
              "      <td>f</td>\n",
              "      <td>h</td>\n",
              "    </tr>\n",
              "    <tr>\n",
              "      <th>7</th>\n",
              "      <td>l</td>\n",
              "      <td>as</td>\n",
              "      <td>f</td>\n",
              "      <td>d</td>\n",
              "      <td>f</td>\n",
              "      <td>j</td>\n",
              "    </tr>\n",
              "    <tr>\n",
              "      <th>8</th>\n",
              "      <td>s</td>\n",
              "      <td>as</td>\n",
              "      <td>e</td>\n",
              "      <td>d</td>\n",
              "      <td>f</td>\n",
              "      <td>i</td>\n",
              "    </tr>\n",
              "    <tr>\n",
              "      <th>9</th>\n",
              "      <td>b</td>\n",
              "      <td>aq</td>\n",
              "      <td>c</td>\n",
              "      <td>d</td>\n",
              "      <td>f</td>\n",
              "      <td>a</td>\n",
              "    </tr>\n",
              "  </tbody>\n",
              "</table>\n",
              "</div>"
            ],
            "text/plain": [
              "  X1  X2 X3 X4 X5 X6\n",
              "0  v  at  a  d  u  j\n",
              "1  t  av  e  d  y  l\n",
              "2  w   n  c  d  x  j\n",
              "3  t   n  f  d  x  l\n",
              "4  v   n  f  d  h  d\n",
              "5  b   e  c  d  g  h\n",
              "6  r   e  f  d  f  h\n",
              "7  l  as  f  d  f  j\n",
              "8  s  as  e  d  f  i\n",
              "9  b  aq  c  d  f  a"
            ]
          },
          "metadata": {
            "tags": []
          },
          "execution_count": 59
        }
      ]
    },
    {
      "cell_type": "code",
      "metadata": {
        "colab": {
          "base_uri": "https://localhost:8080/"
        },
        "id": "2i8O4UMQj5aP",
        "outputId": "1c0a6c99-cee2-4f73-9a99-155c6800e54f"
      },
      "source": [
        "data.shape"
      ],
      "execution_count": null,
      "outputs": [
        {
          "output_type": "execute_result",
          "data": {
            "text/plain": [
              "(4209, 6)"
            ]
          },
          "metadata": {
            "tags": []
          },
          "execution_count": 60
        }
      ]
    },
    {
      "cell_type": "code",
      "metadata": {
        "colab": {
          "base_uri": "https://localhost:8080/"
        },
        "id": "EZSyy8S_j99J",
        "outputId": "78111a6d-a715-4946-87cf-7276eed9a5ae"
      },
      "source": [
        "for i in data:\n",
        "  print(i,len(data[i].unique()),'labels/categories')"
      ],
      "execution_count": null,
      "outputs": [
        {
          "output_type": "stream",
          "text": [
            "X1 27 labels/categories\n",
            "X2 44 labels/categories\n",
            "X3 7 labels/categories\n",
            "X4 4 labels/categories\n",
            "X5 29 labels/categories\n",
            "X6 12 labels/categories\n"
          ],
          "name": "stdout"
        }
      ]
    },
    {
      "cell_type": "code",
      "metadata": {
        "colab": {
          "base_uri": "https://localhost:8080/"
        },
        "id": "yJyzsIvHkZCA",
        "outputId": "f65543fc-b79e-462f-a07e-0a7cacaed990"
      },
      "source": [
        "data.X1.value_counts().to_dict()"
      ],
      "execution_count": null,
      "outputs": [
        {
          "output_type": "execute_result",
          "data": {
            "text/plain": [
              "{'a': 143,\n",
              " 'aa': 833,\n",
              " 'ab': 3,\n",
              " 'b': 592,\n",
              " 'c': 121,\n",
              " 'd': 3,\n",
              " 'e': 33,\n",
              " 'f': 23,\n",
              " 'g': 6,\n",
              " 'h': 29,\n",
              " 'i': 203,\n",
              " 'j': 22,\n",
              " 'k': 17,\n",
              " 'l': 590,\n",
              " 'm': 32,\n",
              " 'n': 19,\n",
              " 'o': 82,\n",
              " 'p': 9,\n",
              " 'q': 3,\n",
              " 'r': 251,\n",
              " 's': 598,\n",
              " 't': 31,\n",
              " 'u': 37,\n",
              " 'v': 408,\n",
              " 'w': 52,\n",
              " 'y': 23,\n",
              " 'z': 46}"
            ]
          },
          "metadata": {
            "tags": []
          },
          "execution_count": 62
        }
      ]
    },
    {
      "cell_type": "code",
      "metadata": {
        "colab": {
          "base_uri": "https://localhost:8080/"
        },
        "id": "cqz9cBsAk6lY",
        "outputId": "6edd232f-5d47-4289-b72e-314c98cd332d"
      },
      "source": [
        "data_frequency=data.X1.value_counts().to_dict()\n",
        "data_frequency"
      ],
      "execution_count": null,
      "outputs": [
        {
          "output_type": "execute_result",
          "data": {
            "text/plain": [
              "{'a': 143,\n",
              " 'aa': 833,\n",
              " 'ab': 3,\n",
              " 'b': 592,\n",
              " 'c': 121,\n",
              " 'd': 3,\n",
              " 'e': 33,\n",
              " 'f': 23,\n",
              " 'g': 6,\n",
              " 'h': 29,\n",
              " 'i': 203,\n",
              " 'j': 22,\n",
              " 'k': 17,\n",
              " 'l': 590,\n",
              " 'm': 32,\n",
              " 'n': 19,\n",
              " 'o': 82,\n",
              " 'p': 9,\n",
              " 'q': 3,\n",
              " 'r': 251,\n",
              " 's': 598,\n",
              " 't': 31,\n",
              " 'u': 37,\n",
              " 'v': 408,\n",
              " 'w': 52,\n",
              " 'y': 23,\n",
              " 'z': 46}"
            ]
          },
          "metadata": {
            "tags": []
          },
          "execution_count": 63
        }
      ]
    },
    {
      "cell_type": "code",
      "metadata": {
        "colab": {
          "base_uri": "https://localhost:8080/"
        },
        "id": "OUs-K3YklUaO",
        "outputId": "6195a894-b608-42af-90cc-eec4c4ae9952"
      },
      "source": [
        "data.X1=data.X1.map(data_frequency)\n",
        "print(data)"
      ],
      "execution_count": null,
      "outputs": [
        {
          "output_type": "stream",
          "text": [
            "      X1  X2 X3 X4  X5 X6\n",
            "0    NaN  at  a  d   u  j\n",
            "1    NaN  av  e  d   y  l\n",
            "2    NaN   n  c  d   x  j\n",
            "3    NaN   n  f  d   x  l\n",
            "4    NaN   n  f  d   h  d\n",
            "...   ..  .. .. ..  .. ..\n",
            "4204 NaN  as  c  d  aa  d\n",
            "4205 NaN   t  d  d  aa  h\n",
            "4206 NaN   r  a  d  aa  g\n",
            "4207 NaN   e  f  d  aa  l\n",
            "4208 NaN  ae  c  d  aa  g\n",
            "\n",
            "[4209 rows x 6 columns]\n"
          ],
          "name": "stdout"
        }
      ]
    },
    {
      "cell_type": "code",
      "metadata": {
        "id": "AFdhqLEWln9w"
      },
      "source": [
        "Disadvantage is Might work or might not work\n",
        "The another one is if two categories repeated same, then we loose some data"
      ],
      "execution_count": null,
      "outputs": []
    },
    {
      "cell_type": "code",
      "metadata": {
        "id": "PueHtK4anoXh"
      },
      "source": [
        ""
      ],
      "execution_count": null,
      "outputs": []
    },
    {
      "cell_type": "markdown",
      "metadata": {
        "id": "nlqmcqd3pgOZ"
      },
      "source": [
        "**Ordinal Encoding**"
      ]
    },
    {
      "cell_type": "code",
      "metadata": {
        "id": "GimbpVoipniW"
      },
      "source": [
        "import pandas as pd\n",
        "import datetime"
      ],
      "execution_count": 70,
      "outputs": []
    },
    {
      "cell_type": "code",
      "metadata": {
        "colab": {
          "base_uri": "https://localhost:8080/"
        },
        "id": "YqNrYgasptD6",
        "outputId": "25f1b283-1387-4ad9-befa-a8cce5b00ec8"
      },
      "source": [
        "data=datetime.datetime.today()\n",
        "data_list=[data-datetime.timedelta(days=x) for x in range(0,20)]\n",
        "data_list"
      ],
      "execution_count": 76,
      "outputs": [
        {
          "output_type": "execute_result",
          "data": {
            "text/plain": [
              "[datetime.datetime(2020, 12, 6, 15, 27, 5, 147457),\n",
              " datetime.datetime(2020, 12, 5, 15, 27, 5, 147457),\n",
              " datetime.datetime(2020, 12, 4, 15, 27, 5, 147457),\n",
              " datetime.datetime(2020, 12, 3, 15, 27, 5, 147457),\n",
              " datetime.datetime(2020, 12, 2, 15, 27, 5, 147457),\n",
              " datetime.datetime(2020, 12, 1, 15, 27, 5, 147457),\n",
              " datetime.datetime(2020, 11, 30, 15, 27, 5, 147457),\n",
              " datetime.datetime(2020, 11, 29, 15, 27, 5, 147457),\n",
              " datetime.datetime(2020, 11, 28, 15, 27, 5, 147457),\n",
              " datetime.datetime(2020, 11, 27, 15, 27, 5, 147457),\n",
              " datetime.datetime(2020, 11, 26, 15, 27, 5, 147457),\n",
              " datetime.datetime(2020, 11, 25, 15, 27, 5, 147457),\n",
              " datetime.datetime(2020, 11, 24, 15, 27, 5, 147457),\n",
              " datetime.datetime(2020, 11, 23, 15, 27, 5, 147457),\n",
              " datetime.datetime(2020, 11, 22, 15, 27, 5, 147457),\n",
              " datetime.datetime(2020, 11, 21, 15, 27, 5, 147457),\n",
              " datetime.datetime(2020, 11, 20, 15, 27, 5, 147457),\n",
              " datetime.datetime(2020, 11, 19, 15, 27, 5, 147457),\n",
              " datetime.datetime(2020, 11, 18, 15, 27, 5, 147457),\n",
              " datetime.datetime(2020, 11, 17, 15, 27, 5, 147457)]"
            ]
          },
          "metadata": {
            "tags": []
          },
          "execution_count": 76
        }
      ]
    },
    {
      "cell_type": "code",
      "metadata": {
        "id": "F5xOLhiwpxcB"
      },
      "source": [
        "df = pd.DataFrame(data_list)"
      ],
      "execution_count": 77,
      "outputs": []
    },
    {
      "cell_type": "code",
      "metadata": {
        "colab": {
          "base_uri": "https://localhost:8080/",
          "height": 669
        },
        "id": "7acbyReaqsmS",
        "outputId": "1c291be8-acb0-4573-b56b-4d2f5cf51e89"
      },
      "source": [
        "df.columns=['day']\n",
        "df"
      ],
      "execution_count": 82,
      "outputs": [
        {
          "output_type": "execute_result",
          "data": {
            "text/html": [
              "<div>\n",
              "<style scoped>\n",
              "    .dataframe tbody tr th:only-of-type {\n",
              "        vertical-align: middle;\n",
              "    }\n",
              "\n",
              "    .dataframe tbody tr th {\n",
              "        vertical-align: top;\n",
              "    }\n",
              "\n",
              "    .dataframe thead th {\n",
              "        text-align: right;\n",
              "    }\n",
              "</style>\n",
              "<table border=\"1\" class=\"dataframe\">\n",
              "  <thead>\n",
              "    <tr style=\"text-align: right;\">\n",
              "      <th></th>\n",
              "      <th>day</th>\n",
              "    </tr>\n",
              "  </thead>\n",
              "  <tbody>\n",
              "    <tr>\n",
              "      <th>0</th>\n",
              "      <td>2020-12-06 15:27:05.147457</td>\n",
              "    </tr>\n",
              "    <tr>\n",
              "      <th>1</th>\n",
              "      <td>2020-12-05 15:27:05.147457</td>\n",
              "    </tr>\n",
              "    <tr>\n",
              "      <th>2</th>\n",
              "      <td>2020-12-04 15:27:05.147457</td>\n",
              "    </tr>\n",
              "    <tr>\n",
              "      <th>3</th>\n",
              "      <td>2020-12-03 15:27:05.147457</td>\n",
              "    </tr>\n",
              "    <tr>\n",
              "      <th>4</th>\n",
              "      <td>2020-12-02 15:27:05.147457</td>\n",
              "    </tr>\n",
              "    <tr>\n",
              "      <th>5</th>\n",
              "      <td>2020-12-01 15:27:05.147457</td>\n",
              "    </tr>\n",
              "    <tr>\n",
              "      <th>6</th>\n",
              "      <td>2020-11-30 15:27:05.147457</td>\n",
              "    </tr>\n",
              "    <tr>\n",
              "      <th>7</th>\n",
              "      <td>2020-11-29 15:27:05.147457</td>\n",
              "    </tr>\n",
              "    <tr>\n",
              "      <th>8</th>\n",
              "      <td>2020-11-28 15:27:05.147457</td>\n",
              "    </tr>\n",
              "    <tr>\n",
              "      <th>9</th>\n",
              "      <td>2020-11-27 15:27:05.147457</td>\n",
              "    </tr>\n",
              "    <tr>\n",
              "      <th>10</th>\n",
              "      <td>2020-11-26 15:27:05.147457</td>\n",
              "    </tr>\n",
              "    <tr>\n",
              "      <th>11</th>\n",
              "      <td>2020-11-25 15:27:05.147457</td>\n",
              "    </tr>\n",
              "    <tr>\n",
              "      <th>12</th>\n",
              "      <td>2020-11-24 15:27:05.147457</td>\n",
              "    </tr>\n",
              "    <tr>\n",
              "      <th>13</th>\n",
              "      <td>2020-11-23 15:27:05.147457</td>\n",
              "    </tr>\n",
              "    <tr>\n",
              "      <th>14</th>\n",
              "      <td>2020-11-22 15:27:05.147457</td>\n",
              "    </tr>\n",
              "    <tr>\n",
              "      <th>15</th>\n",
              "      <td>2020-11-21 15:27:05.147457</td>\n",
              "    </tr>\n",
              "    <tr>\n",
              "      <th>16</th>\n",
              "      <td>2020-11-20 15:27:05.147457</td>\n",
              "    </tr>\n",
              "    <tr>\n",
              "      <th>17</th>\n",
              "      <td>2020-11-19 15:27:05.147457</td>\n",
              "    </tr>\n",
              "    <tr>\n",
              "      <th>18</th>\n",
              "      <td>2020-11-18 15:27:05.147457</td>\n",
              "    </tr>\n",
              "    <tr>\n",
              "      <th>19</th>\n",
              "      <td>2020-11-17 15:27:05.147457</td>\n",
              "    </tr>\n",
              "  </tbody>\n",
              "</table>\n",
              "</div>"
            ],
            "text/plain": [
              "                          day\n",
              "0  2020-12-06 15:27:05.147457\n",
              "1  2020-12-05 15:27:05.147457\n",
              "2  2020-12-04 15:27:05.147457\n",
              "3  2020-12-03 15:27:05.147457\n",
              "4  2020-12-02 15:27:05.147457\n",
              "5  2020-12-01 15:27:05.147457\n",
              "6  2020-11-30 15:27:05.147457\n",
              "7  2020-11-29 15:27:05.147457\n",
              "8  2020-11-28 15:27:05.147457\n",
              "9  2020-11-27 15:27:05.147457\n",
              "10 2020-11-26 15:27:05.147457\n",
              "11 2020-11-25 15:27:05.147457\n",
              "12 2020-11-24 15:27:05.147457\n",
              "13 2020-11-23 15:27:05.147457\n",
              "14 2020-11-22 15:27:05.147457\n",
              "15 2020-11-21 15:27:05.147457\n",
              "16 2020-11-20 15:27:05.147457\n",
              "17 2020-11-19 15:27:05.147457\n",
              "18 2020-11-18 15:27:05.147457\n",
              "19 2020-11-17 15:27:05.147457"
            ]
          },
          "metadata": {
            "tags": []
          },
          "execution_count": 82
        }
      ]
    },
    {
      "cell_type": "code",
      "metadata": {
        "id": "qT66XIQcquTE"
      },
      "source": [
        "df['dayofweek']=df['day'].dt.dayofweek"
      ],
      "execution_count": 84,
      "outputs": []
    },
    {
      "cell_type": "code",
      "metadata": {
        "colab": {
          "base_uri": "https://localhost:8080/",
          "height": 669
        },
        "id": "_H33S-e5zEUU",
        "outputId": "e6a6a0b7-7441-47f8-9efe-39ba588272a9"
      },
      "source": [
        "df"
      ],
      "execution_count": 85,
      "outputs": [
        {
          "output_type": "execute_result",
          "data": {
            "text/html": [
              "<div>\n",
              "<style scoped>\n",
              "    .dataframe tbody tr th:only-of-type {\n",
              "        vertical-align: middle;\n",
              "    }\n",
              "\n",
              "    .dataframe tbody tr th {\n",
              "        vertical-align: top;\n",
              "    }\n",
              "\n",
              "    .dataframe thead th {\n",
              "        text-align: right;\n",
              "    }\n",
              "</style>\n",
              "<table border=\"1\" class=\"dataframe\">\n",
              "  <thead>\n",
              "    <tr style=\"text-align: right;\">\n",
              "      <th></th>\n",
              "      <th>day</th>\n",
              "      <th>dayofweek</th>\n",
              "    </tr>\n",
              "  </thead>\n",
              "  <tbody>\n",
              "    <tr>\n",
              "      <th>0</th>\n",
              "      <td>2020-12-06 15:27:05.147457</td>\n",
              "      <td>6</td>\n",
              "    </tr>\n",
              "    <tr>\n",
              "      <th>1</th>\n",
              "      <td>2020-12-05 15:27:05.147457</td>\n",
              "      <td>5</td>\n",
              "    </tr>\n",
              "    <tr>\n",
              "      <th>2</th>\n",
              "      <td>2020-12-04 15:27:05.147457</td>\n",
              "      <td>4</td>\n",
              "    </tr>\n",
              "    <tr>\n",
              "      <th>3</th>\n",
              "      <td>2020-12-03 15:27:05.147457</td>\n",
              "      <td>3</td>\n",
              "    </tr>\n",
              "    <tr>\n",
              "      <th>4</th>\n",
              "      <td>2020-12-02 15:27:05.147457</td>\n",
              "      <td>2</td>\n",
              "    </tr>\n",
              "    <tr>\n",
              "      <th>5</th>\n",
              "      <td>2020-12-01 15:27:05.147457</td>\n",
              "      <td>1</td>\n",
              "    </tr>\n",
              "    <tr>\n",
              "      <th>6</th>\n",
              "      <td>2020-11-30 15:27:05.147457</td>\n",
              "      <td>0</td>\n",
              "    </tr>\n",
              "    <tr>\n",
              "      <th>7</th>\n",
              "      <td>2020-11-29 15:27:05.147457</td>\n",
              "      <td>6</td>\n",
              "    </tr>\n",
              "    <tr>\n",
              "      <th>8</th>\n",
              "      <td>2020-11-28 15:27:05.147457</td>\n",
              "      <td>5</td>\n",
              "    </tr>\n",
              "    <tr>\n",
              "      <th>9</th>\n",
              "      <td>2020-11-27 15:27:05.147457</td>\n",
              "      <td>4</td>\n",
              "    </tr>\n",
              "    <tr>\n",
              "      <th>10</th>\n",
              "      <td>2020-11-26 15:27:05.147457</td>\n",
              "      <td>3</td>\n",
              "    </tr>\n",
              "    <tr>\n",
              "      <th>11</th>\n",
              "      <td>2020-11-25 15:27:05.147457</td>\n",
              "      <td>2</td>\n",
              "    </tr>\n",
              "    <tr>\n",
              "      <th>12</th>\n",
              "      <td>2020-11-24 15:27:05.147457</td>\n",
              "      <td>1</td>\n",
              "    </tr>\n",
              "    <tr>\n",
              "      <th>13</th>\n",
              "      <td>2020-11-23 15:27:05.147457</td>\n",
              "      <td>0</td>\n",
              "    </tr>\n",
              "    <tr>\n",
              "      <th>14</th>\n",
              "      <td>2020-11-22 15:27:05.147457</td>\n",
              "      <td>6</td>\n",
              "    </tr>\n",
              "    <tr>\n",
              "      <th>15</th>\n",
              "      <td>2020-11-21 15:27:05.147457</td>\n",
              "      <td>5</td>\n",
              "    </tr>\n",
              "    <tr>\n",
              "      <th>16</th>\n",
              "      <td>2020-11-20 15:27:05.147457</td>\n",
              "      <td>4</td>\n",
              "    </tr>\n",
              "    <tr>\n",
              "      <th>17</th>\n",
              "      <td>2020-11-19 15:27:05.147457</td>\n",
              "      <td>3</td>\n",
              "    </tr>\n",
              "    <tr>\n",
              "      <th>18</th>\n",
              "      <td>2020-11-18 15:27:05.147457</td>\n",
              "      <td>2</td>\n",
              "    </tr>\n",
              "    <tr>\n",
              "      <th>19</th>\n",
              "      <td>2020-11-17 15:27:05.147457</td>\n",
              "      <td>1</td>\n",
              "    </tr>\n",
              "  </tbody>\n",
              "</table>\n",
              "</div>"
            ],
            "text/plain": [
              "                          day  dayofweek\n",
              "0  2020-12-06 15:27:05.147457          6\n",
              "1  2020-12-05 15:27:05.147457          5\n",
              "2  2020-12-04 15:27:05.147457          4\n",
              "3  2020-12-03 15:27:05.147457          3\n",
              "4  2020-12-02 15:27:05.147457          2\n",
              "5  2020-12-01 15:27:05.147457          1\n",
              "6  2020-11-30 15:27:05.147457          0\n",
              "7  2020-11-29 15:27:05.147457          6\n",
              "8  2020-11-28 15:27:05.147457          5\n",
              "9  2020-11-27 15:27:05.147457          4\n",
              "10 2020-11-26 15:27:05.147457          3\n",
              "11 2020-11-25 15:27:05.147457          2\n",
              "12 2020-11-24 15:27:05.147457          1\n",
              "13 2020-11-23 15:27:05.147457          0\n",
              "14 2020-11-22 15:27:05.147457          6\n",
              "15 2020-11-21 15:27:05.147457          5\n",
              "16 2020-11-20 15:27:05.147457          4\n",
              "17 2020-11-19 15:27:05.147457          3\n",
              "18 2020-11-18 15:27:05.147457          2\n",
              "19 2020-11-17 15:27:05.147457          1"
            ]
          },
          "metadata": {
            "tags": []
          },
          "execution_count": 85
        }
      ]
    },
    {
      "cell_type": "markdown",
      "metadata": {
        "id": "47lo2E3G-Msx"
      },
      "source": [
        "**Handling Missing Values:**\n",
        "\n",
        "Missing completely at Random(MCAR): Absolutely No Relationship between the data missing and any other values\n",
        "\n",
        "Missing Data Not at Random(MDAR): Some relationship"
      ]
    },
    {
      "cell_type": "code",
      "metadata": {
        "colab": {
          "base_uri": "https://localhost:8080/",
          "height": 255
        },
        "id": "kzIKViyLzc8L",
        "outputId": "415f34fe-43ec-46f3-9b3a-0bef35c2a132"
      },
      "source": [
        "data=pd.read_csv('/content/drive/MyDrive/Colab Notebooks/titanic.csv')\n",
        "data.head()"
      ],
      "execution_count": 88,
      "outputs": [
        {
          "output_type": "execute_result",
          "data": {
            "text/html": [
              "<div>\n",
              "<style scoped>\n",
              "    .dataframe tbody tr th:only-of-type {\n",
              "        vertical-align: middle;\n",
              "    }\n",
              "\n",
              "    .dataframe tbody tr th {\n",
              "        vertical-align: top;\n",
              "    }\n",
              "\n",
              "    .dataframe thead th {\n",
              "        text-align: right;\n",
              "    }\n",
              "</style>\n",
              "<table border=\"1\" class=\"dataframe\">\n",
              "  <thead>\n",
              "    <tr style=\"text-align: right;\">\n",
              "      <th></th>\n",
              "      <th>PassengerId</th>\n",
              "      <th>Survived</th>\n",
              "      <th>Pclass</th>\n",
              "      <th>Name</th>\n",
              "      <th>Sex</th>\n",
              "      <th>Age</th>\n",
              "      <th>SibSp</th>\n",
              "      <th>Parch</th>\n",
              "      <th>Ticket</th>\n",
              "      <th>Fare</th>\n",
              "      <th>Cabin</th>\n",
              "      <th>Embarked</th>\n",
              "    </tr>\n",
              "  </thead>\n",
              "  <tbody>\n",
              "    <tr>\n",
              "      <th>0</th>\n",
              "      <td>1</td>\n",
              "      <td>0</td>\n",
              "      <td>3</td>\n",
              "      <td>Braund, Mr. Owen Harris</td>\n",
              "      <td>male</td>\n",
              "      <td>22.0</td>\n",
              "      <td>1</td>\n",
              "      <td>0</td>\n",
              "      <td>A/5 21171</td>\n",
              "      <td>7.2500</td>\n",
              "      <td>NaN</td>\n",
              "      <td>S</td>\n",
              "    </tr>\n",
              "    <tr>\n",
              "      <th>1</th>\n",
              "      <td>2</td>\n",
              "      <td>1</td>\n",
              "      <td>1</td>\n",
              "      <td>Cumings, Mrs. John Bradley (Florence Briggs Th...</td>\n",
              "      <td>female</td>\n",
              "      <td>38.0</td>\n",
              "      <td>1</td>\n",
              "      <td>0</td>\n",
              "      <td>PC 17599</td>\n",
              "      <td>71.2833</td>\n",
              "      <td>C85</td>\n",
              "      <td>C</td>\n",
              "    </tr>\n",
              "    <tr>\n",
              "      <th>2</th>\n",
              "      <td>3</td>\n",
              "      <td>1</td>\n",
              "      <td>3</td>\n",
              "      <td>Heikkinen, Miss. Laina</td>\n",
              "      <td>female</td>\n",
              "      <td>26.0</td>\n",
              "      <td>0</td>\n",
              "      <td>0</td>\n",
              "      <td>STON/O2. 3101282</td>\n",
              "      <td>7.9250</td>\n",
              "      <td>NaN</td>\n",
              "      <td>S</td>\n",
              "    </tr>\n",
              "    <tr>\n",
              "      <th>3</th>\n",
              "      <td>4</td>\n",
              "      <td>1</td>\n",
              "      <td>1</td>\n",
              "      <td>Futrelle, Mrs. Jacques Heath (Lily May Peel)</td>\n",
              "      <td>female</td>\n",
              "      <td>35.0</td>\n",
              "      <td>1</td>\n",
              "      <td>0</td>\n",
              "      <td>113803</td>\n",
              "      <td>53.1000</td>\n",
              "      <td>C123</td>\n",
              "      <td>S</td>\n",
              "    </tr>\n",
              "    <tr>\n",
              "      <th>4</th>\n",
              "      <td>5</td>\n",
              "      <td>0</td>\n",
              "      <td>3</td>\n",
              "      <td>Allen, Mr. William Henry</td>\n",
              "      <td>male</td>\n",
              "      <td>35.0</td>\n",
              "      <td>0</td>\n",
              "      <td>0</td>\n",
              "      <td>373450</td>\n",
              "      <td>8.0500</td>\n",
              "      <td>NaN</td>\n",
              "      <td>S</td>\n",
              "    </tr>\n",
              "  </tbody>\n",
              "</table>\n",
              "</div>"
            ],
            "text/plain": [
              "   PassengerId  Survived  Pclass  ...     Fare Cabin  Embarked\n",
              "0            1         0       3  ...   7.2500   NaN         S\n",
              "1            2         1       1  ...  71.2833   C85         C\n",
              "2            3         1       3  ...   7.9250   NaN         S\n",
              "3            4         1       1  ...  53.1000  C123         S\n",
              "4            5         0       3  ...   8.0500   NaN         S\n",
              "\n",
              "[5 rows x 12 columns]"
            ]
          },
          "metadata": {
            "tags": []
          },
          "execution_count": 88
        }
      ]
    },
    {
      "cell_type": "code",
      "metadata": {
        "colab": {
          "base_uri": "https://localhost:8080/"
        },
        "id": "RfGSk1A_Aa3H",
        "outputId": "66d646dd-259c-45f4-e93c-821e5677ed1d"
      },
      "source": [
        "data.isnull().sum()"
      ],
      "execution_count": 90,
      "outputs": [
        {
          "output_type": "execute_result",
          "data": {
            "text/plain": [
              "PassengerId      0\n",
              "Survived         0\n",
              "Pclass           0\n",
              "Name             0\n",
              "Sex              0\n",
              "Age            177\n",
              "SibSp            0\n",
              "Parch            0\n",
              "Ticket           0\n",
              "Fare             0\n",
              "Cabin          687\n",
              "Embarked         2\n",
              "dtype: int64"
            ]
          },
          "metadata": {
            "tags": []
          },
          "execution_count": 90
        }
      ]
    },
    {
      "cell_type": "code",
      "metadata": {
        "colab": {
          "base_uri": "https://localhost:8080/",
          "height": 111
        },
        "id": "jsRWFNMDAstK",
        "outputId": "5799bd20-ddf1-47d6-bdc9-73b2479410ed"
      },
      "source": [
        "data[data['Embarked'].isnull()]"
      ],
      "execution_count": 99,
      "outputs": [
        {
          "output_type": "execute_result",
          "data": {
            "text/html": [
              "<div>\n",
              "<style scoped>\n",
              "    .dataframe tbody tr th:only-of-type {\n",
              "        vertical-align: middle;\n",
              "    }\n",
              "\n",
              "    .dataframe tbody tr th {\n",
              "        vertical-align: top;\n",
              "    }\n",
              "\n",
              "    .dataframe thead th {\n",
              "        text-align: right;\n",
              "    }\n",
              "</style>\n",
              "<table border=\"1\" class=\"dataframe\">\n",
              "  <thead>\n",
              "    <tr style=\"text-align: right;\">\n",
              "      <th></th>\n",
              "      <th>PassengerId</th>\n",
              "      <th>Survived</th>\n",
              "      <th>Pclass</th>\n",
              "      <th>Name</th>\n",
              "      <th>Sex</th>\n",
              "      <th>Age</th>\n",
              "      <th>SibSp</th>\n",
              "      <th>Parch</th>\n",
              "      <th>Ticket</th>\n",
              "      <th>Fare</th>\n",
              "      <th>Cabin</th>\n",
              "      <th>Embarked</th>\n",
              "    </tr>\n",
              "  </thead>\n",
              "  <tbody>\n",
              "    <tr>\n",
              "      <th>61</th>\n",
              "      <td>62</td>\n",
              "      <td>1</td>\n",
              "      <td>1</td>\n",
              "      <td>Icard, Miss. Amelie</td>\n",
              "      <td>female</td>\n",
              "      <td>38.0</td>\n",
              "      <td>0</td>\n",
              "      <td>0</td>\n",
              "      <td>113572</td>\n",
              "      <td>80.0</td>\n",
              "      <td>B28</td>\n",
              "      <td>NaN</td>\n",
              "    </tr>\n",
              "    <tr>\n",
              "      <th>829</th>\n",
              "      <td>830</td>\n",
              "      <td>1</td>\n",
              "      <td>1</td>\n",
              "      <td>Stone, Mrs. George Nelson (Martha Evelyn)</td>\n",
              "      <td>female</td>\n",
              "      <td>62.0</td>\n",
              "      <td>0</td>\n",
              "      <td>0</td>\n",
              "      <td>113572</td>\n",
              "      <td>80.0</td>\n",
              "      <td>B28</td>\n",
              "      <td>NaN</td>\n",
              "    </tr>\n",
              "  </tbody>\n",
              "</table>\n",
              "</div>"
            ],
            "text/plain": [
              "     PassengerId  Survived  Pclass  ...  Fare Cabin  Embarked\n",
              "61            62         1       1  ...  80.0   B28       NaN\n",
              "829          830         1       1  ...  80.0   B28       NaN\n",
              "\n",
              "[2 rows x 12 columns]"
            ]
          },
          "metadata": {
            "tags": []
          },
          "execution_count": 99
        }
      ]
    },
    {
      "cell_type": "code",
      "metadata": {
        "colab": {
          "base_uri": "https://localhost:8080/"
        },
        "id": "XgUMkjTaA3Zq",
        "outputId": "837d586e-6c5d-4b54-87c2-083699b849c3"
      },
      "source": [
        "data['Cabin_null']=np.where(data['Cabin'].isnull(),1,0)\n",
        "data.columns.get_loc('Cabin_null')"
      ],
      "execution_count": 128,
      "outputs": [
        {
          "output_type": "execute_result",
          "data": {
            "text/plain": [
              "12"
            ]
          },
          "metadata": {
            "tags": []
          },
          "execution_count": 128
        }
      ]
    },
    {
      "cell_type": "code",
      "metadata": {
        "id": "4FC07YoFBhIz"
      },
      "source": [
        "data.drop(['cabin_null'],inplace=True,axis=1)"
      ],
      "execution_count": 126,
      "outputs": []
    },
    {
      "cell_type": "code",
      "metadata": {
        "colab": {
          "base_uri": "https://localhost:8080/"
        },
        "id": "Uz0EVKy2CsdC",
        "outputId": "d9b39429-cc0c-4c19-a542-f16cf622c6e5"
      },
      "source": [
        "data.columns"
      ],
      "execution_count": 129,
      "outputs": [
        {
          "output_type": "execute_result",
          "data": {
            "text/plain": [
              "Index(['PassengerId', 'Survived', 'Pclass', 'Name', 'Sex', 'Age', 'SibSp',\n",
              "       'Parch', 'Ticket', 'Fare', 'Cabin', 'Embarked', 'Cabin_null'],\n",
              "      dtype='object')"
            ]
          },
          "metadata": {
            "tags": []
          },
          "execution_count": 129
        }
      ]
    },
    {
      "cell_type": "code",
      "metadata": {
        "colab": {
          "base_uri": "https://localhost:8080/"
        },
        "id": "4K2IQ1sADn30",
        "outputId": "11bed4ef-a001-4cc1-efdd-cf241d163e5e"
      },
      "source": [
        "data['Cabin_null'].mean() # 77% of missing values"
      ],
      "execution_count": 130,
      "outputs": [
        {
          "output_type": "execute_result",
          "data": {
            "text/plain": [
              "0.7710437710437711"
            ]
          },
          "metadata": {
            "tags": []
          },
          "execution_count": 130
        }
      ]
    },
    {
      "cell_type": "code",
      "metadata": {
        "id": "diF9RrycGAxp"
      },
      "source": [
        ""
      ],
      "execution_count": null,
      "outputs": []
    }
  ]
}